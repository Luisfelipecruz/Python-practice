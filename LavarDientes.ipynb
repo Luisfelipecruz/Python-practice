{
 "cells": [
  {
   "cell_type": "code",
   "execution_count": null,
   "metadata": {},
   "outputs": [],
   "source": [
    "# -*- coding: utf-8 -*-\n",
    "\"\"\"\n",
    "Created on Mon Sep 21 08:09:10 2020\n",
    "\n",
    "@author: Luis Felipe Cruz\n",
    "\"\"\"\n",
    "\n",
    "print(\"Revisar que tiene cepillo, responder si o no\")\n",
    "cepillo = input()\n",
    "while cepillo != \"si\":\n",
    "    print(\"Busque cepillo, y vuelva nuevamente\")\n",
    "    print(\"Tiene cepillo ?\")\n",
    "    cepillo = input()\n",
    "print(\"Revisar que tiene agua, responder si o no\")\n",
    "agua = input()\n",
    "while agua != \"si\":\n",
    "    print(\"Busque agua, y vuelva nuevamente\")\n",
    "    print(\"Tiene agua ?\")\n",
    "    agua = input()\n",
    "print(\"Revisar que tiene crema, responder si o no\")\n",
    "agua = input()\n",
    "while agua != \"si\":\n",
    "    print(\"Busque crema, y vuelva nuevamente\")\n",
    "    print(\"Tiene crema ?\")\n",
    "    crema = input()\n",
    "print(\"Aplicaque la crema en el cepillo de dientes, lo hizo? responda si o no\")\n",
    "cremacepillo = input()\n",
    "while cremacepillo != \"si\":\n",
    "    print(\"aplique la crema en el cepillo y vuelva nuevamente\")\n",
    "    print(\"ya aplico la crema en el cepillo ?\")\n",
    "    cremacepillo = input()\n",
    "while True:    #This simulates a Do Loop\n",
    "    print(\"cepille los dientes en toda la boca\")\n",
    "    print(\"tome agua y elimine el exceso de crema\")\n",
    "    print(\"lave el cepillo\")\n",
    "    print(\"frote el cepillo en los dientes y tome agua para eliminar el exceso de crema en la boca\")\n",
    "    print(\"Presenta restos de comida o de crema dental en la boca, responda si o no\")\n",
    "    limpio = input()\n",
    "    if not(limpio != \"si\"): break   #Exit loop\n",
    "print(\"Felicitaciones tiene los dientes y boca limpios, vuelva pronto\")\n"
   ]
  }
 ],
 "metadata": {
  "kernelspec": {
   "display_name": "Python 3",
   "language": "python",
   "name": "python3"
  },
  "language_info": {
   "codemirror_mode": {
    "name": "ipython",
    "version": 3
   },
   "file_extension": ".py",
   "mimetype": "text/x-python",
   "name": "python",
   "nbconvert_exporter": "python",
   "pygments_lexer": "ipython3",
   "version": "3.8.3"
  }
 },
 "nbformat": 4,
 "nbformat_minor": 4
}
